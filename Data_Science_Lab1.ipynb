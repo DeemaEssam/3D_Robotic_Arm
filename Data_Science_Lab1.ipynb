{
  "cells": [
    {
      "cell_type": "markdown",
      "metadata": {
        "id": "view-in-github",
        "colab_type": "text"
      },
      "source": [
        "<a href=\"https://colab.research.google.com/github/DeemaEssam/3D_Robotic_Arm/blob/main/Data_Science_Lab1.ipynb\" target=\"_parent\"><img src=\"https://colab.research.google.com/assets/colab-badge.svg\" alt=\"Open In Colab\"/></a>"
      ]
    },
    {
      "cell_type": "markdown",
      "metadata": {
        "id": "ZDyGs0xP_Ptq"
      },
      "source": [
        "# Lab1: Python Basics\n",
        "\n",
        "Deema Hamidah\n",
        "\n",
        "**1. Land Calculation**\n",
        "\n",
        "One acre of land is equivalent to 43,560 square feet. Write a program that asks the user to enter the total square feet in a farm of land and calculates the number of acres in the farm.\n",
        "\n"
      ]
    },
    {
      "cell_type": "code",
      "execution_count": 1,
      "metadata": {
        "id": "ax0EbNBg_APK",
        "colab": {
          "base_uri": "https://localhost:8080/"
        },
        "outputId": "1115abb8-7dea-47e6-9bb8-73955950891a"
      },
      "outputs": [
        {
          "output_type": "stream",
          "name": "stdout",
          "text": [
            "Enter in square feet:50000\n",
            "1.147842056932966\n"
          ]
        }
      ],
      "source": [
        "# Write your answer for Q1 here\n",
        "sq_ft= int(input(\"Enter in square feet:\"))\n",
        "acres=sq_ft/43560\n",
        "print(acres)\n"
      ]
    },
    {
      "cell_type": "markdown",
      "metadata": {
        "id": "KW6_eKUc_Tp7"
      },
      "source": [
        "**2. Age Classifier**\n",
        "\n",
        "Write a program that asks the user to enter a person’s age. The program should display a message indicating whether the person is an infant, a child, a teenager, or an adult. Following are the guidelines:\n",
        "\n",
        "• If the person is 1 year old or less, he or she is an infant.\n",
        "\n",
        "\n",
        "• If the person is older than 1 year, but younger than 13 years, he or she is a child.\n",
        "\n",
        "• If the person is at least 13 years old, but less than 20 years old, he or she is a teenager.\n",
        "\n",
        "• If the person is at least 20 years old, he or she is an adult.\n"
      ]
    },
    {
      "cell_type": "code",
      "execution_count": 2,
      "metadata": {
        "colab": {
          "base_uri": "https://localhost:8080/"
        },
        "id": "LmbS3WKf_PUs",
        "outputId": "517d41e8-f6a8-400a-af67-dacceb907cbc"
      },
      "outputs": [
        {
          "output_type": "stream",
          "name": "stdout",
          "text": [
            "Enter your age:22\n",
            "adult\n"
          ]
        }
      ],
      "source": [
        "# Write your answer for Q2 Here\n",
        "age= int(input(\"Enter your age:\"))\n",
        "if age<= 1:\n",
        "    print(\"infant\")\n",
        "elif 1<age<13:\n",
        "    print(\"child\")\n",
        "elif 13<= age < 20:\n",
        "    print(\"teenager\")\n",
        "elif age >= 20:\n",
        "    print(\"adult\")\n"
      ]
    },
    {
      "cell_type": "markdown",
      "metadata": {
        "id": "jBM0RoVMAXw9"
      },
      "source": [
        "\n",
        "**3. Software Sales**\n",
        "\n",
        "A software company sells a package that retails for $99. Quantity discounts are given according to the following table:\n",
        "\n",
        "\n",
        "![image.png](data:image/png;base64,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)\n",
        "\n",
        "\n",
        "Write a program that asks the user to enter the number of packages purchased. The program should then display the amount of the discount (if any) and the total amount of the purchase after the discount.\n",
        "\n",
        "\n"
      ]
    },
    {
      "cell_type": "code",
      "execution_count": 3,
      "metadata": {
        "colab": {
          "base_uri": "https://localhost:8080/"
        },
        "id": "gy90DTGy_Z4S",
        "outputId": "45095688-2b13-42a8-fed3-1d2a2fa0b26c"
      },
      "outputs": [
        {
          "output_type": "stream",
          "name": "stdout",
          "text": [
            "pkgs: 40\n",
            "Discount is 20% and your purchase after discount= 3168.0\n"
          ]
        }
      ],
      "source": [
        "# Write your answer for Q3 Here\n",
        "pkg = int (input(\"pkgs: \"))\n",
        "\n",
        "\n",
        "if 10<=pkg<=19:\n",
        "    discount_amount= (pkg*99) * (10/100)\n",
        "    print(\"Discount is 10% and your purchase after discount= \" + str( (pkg*99 - discount_amount) ) )\n",
        "elif 20<=pkg<=49:\n",
        "    discount_amount= (pkg*99) * (20/100)\n",
        "    print(\"Discount is 20% and your purchase after discount= \" + str( (pkg*99 - discount_amount) ) )\n",
        "elif 50<= pkg <= 99:\n",
        "    discount_amount= (pkg*99) * (30/100)\n",
        "    print(\"Discount is 30% and your purchase after discount= \" +str( (pkg*99 - discount_amount) ) )\n",
        "elif 100<=pkg:\n",
        "    discount_amount= (pkg*99) * (40/100)\n",
        "    print(\"Discount is 40% and your purchase after discount= \" + str( (pkg*99 - discount-amount) ) )\n",
        "else:\n",
        "    print(\"no discount\")"
      ]
    },
    {
      "cell_type": "markdown",
      "metadata": {
        "id": "R2IK0BXA_aMn"
      },
      "source": [
        "**4. Stadium Seating**\n",
        "\n",
        "There are three seating categories at a stadium. Class A seats cost\n",
        "15, and Class C seats cost $10. Write a program that asks how many tickets for each class of seats were sold, then calls a function that displays the amount of income generated from ticket sales."
      ]
    },
    {
      "cell_type": "code",
      "execution_count": 4,
      "metadata": {
        "id": "9t-vvUPr_a0I",
        "colab": {
          "base_uri": "https://localhost:8080/"
        },
        "outputId": "c927f2d4-9e15-48db-e0eb-16f0a6fee9f4"
      },
      "outputs": [
        {
          "output_type": "stream",
          "name": "stdout",
          "text": [
            "Enter ticket num of class a:2\n",
            "Enter ticket num of class b:2\n",
            "Enter ticket num of class c:2\n",
            "90\n"
          ]
        }
      ],
      "source": [
        "# Write your answer for Q4 Here\n",
        "class_a= int(input(\"Enter ticket num of class a:\"))\n",
        "class_b= int(input(\"Enter ticket num of class b:\"))\n",
        "class_c= int(input(\"Enter ticket num of class c:\"))\n",
        "\n",
        "\n",
        "def  classabc (class_a, class_b, class_c):\n",
        "    print( (class_a * 20) + (class_b * 15) + (class_c * 10))\n",
        "\n",
        "\n",
        "classabc(class_a, class_b, class_c)\n"
      ]
    },
    {
      "cell_type": "markdown",
      "metadata": {
        "id": "EOAbosb8_lb-"
      },
      "source": [
        "**5. Bug Collector**\n",
        "\n",
        "A bug collector collects bugs every day for five days. Write a program that keeps a running total of the number of bugs collected during the five days. The loop should ask for the number of bugs collected for each day, and when the loop is finished, the program should display the total number of bugs collected."
      ]
    },
    {
      "cell_type": "code",
      "execution_count": 5,
      "metadata": {
        "id": "mhkpUzRz_nUB",
        "colab": {
          "base_uri": "https://localhost:8080/"
        },
        "outputId": "caced684-353d-413d-e45f-bb75c199a062"
      },
      "outputs": [
        {
          "output_type": "stream",
          "name": "stdout",
          "text": [
            "Enter bug collected in day15\n",
            "Enter bug collected in day24\n",
            "Enter bug collected in day32\n",
            "Enter bug collected in day43\n",
            "Enter bug collected in day51\n",
            "15\n"
          ]
        }
      ],
      "source": [
        "# Write your answer for Q5 Here\n",
        "\n",
        "bug_collector=0\n",
        "\n",
        "for count in range (1,6):\n",
        "    bug= int(input(\"Enter bug collected in day\" + str(count)) )\n",
        "    bug_collector= bug_collector+bug\n",
        "    count=count-1\n",
        "\n",
        "print(bug_collector)"
      ]
    },
    {
      "cell_type": "markdown",
      "metadata": {
        "id": "COiLrImr_nrR"
      },
      "source": [
        "**6. Pennies for Pay**\n",
        "\n",
        "Write a program that calculates the amount of money a person would earn over a period of time if his or her salary is one penny the first day, two pennies the second day, and continues to double each day. The program should ask the user for the number of days. Display a table showing what the salary was for each day, then show the total pay at the end of the period. The output should be displayed in a dollar amount, not the number of pennies."
      ]
    },
    {
      "cell_type": "code",
      "execution_count": 6,
      "metadata": {
        "id": "-NL4sFcx_qyy",
        "colab": {
          "base_uri": "https://localhost:8080/"
        },
        "outputId": "cf0ac275-9e5e-4392-8ef1-35305f95c1ff"
      },
      "outputs": [
        {
          "output_type": "stream",
          "name": "stdout",
          "text": [
            "Number of days= 5\n",
            "day 1salary is 0.01\n",
            "day 2salary is 0.02\n",
            "day 3salary is 0.04\n",
            "day 4salary is 0.08\n",
            "day 5salary is 0.16\n",
            "Your total salary is $ 0.31000000000000005\n"
          ]
        }
      ],
      "source": [
        "# Write your answer for Q6 Here\n",
        "\n",
        "\n",
        "num_of_days = int(input(\"Number of days= \"))\n",
        "salary = 0.01\n",
        "total_salary=0\n",
        "\n",
        "for day in range (1, num_of_days+1):\n",
        "    print(\"day \"+str(day)+ \"salary is \"+str(salary))\n",
        "    total_salary+=salary\n",
        "    salary=salary*2\n",
        "\n",
        "if total_salary >= 100:\n",
        "    print(\"Your total salary is $ \"+ str(total_salary/100))\n",
        "\n",
        "else:\n",
        "    print(\"Your total salary is $ \"+ str(total_salary))\n",
        "\n",
        "\n"
      ]
    },
    {
      "cell_type": "markdown",
      "metadata": {
        "id": "cKtHccC-_rdw"
      },
      "source": [
        "**7. Calculating the Factorial of a Number**\n",
        "\n",
        "\n",
        "In mathematics, the notation n! represents the factorial of the nonnegative integer n. The factorial of n is the product of all the nonnegative integers from 1 to n. For example, 7! = 1 * 2 * 3 * 4 * 5 * 6 * 7 = 5,040 and 4! = 1 * 2 * 3 * 4 = 24 Write a program that lets the user enter a nonnegative integer then uses a loop to calculate the factorial of that number. Display the factorial."
      ]
    },
    {
      "cell_type": "code",
      "execution_count": 7,
      "metadata": {
        "id": "uIfjIdGI_r2g",
        "colab": {
          "base_uri": "https://localhost:8080/"
        },
        "outputId": "13b710ad-ff6b-4a39-85bd-e0891ff44455"
      },
      "outputs": [
        {
          "output_type": "stream",
          "name": "stdout",
          "text": [
            "Enter a number: 7\n",
            "The factorial of this number is : 5040\n"
          ]
        }
      ],
      "source": [
        "number = int(input(\"Enter a number: \"))\n",
        "fact = 1\n",
        "\n",
        "for i in range(1, number+1):\n",
        "    fact = fact * i\n",
        "\n",
        "print(\"The factorial of this number is : \", end=\"\")\n",
        "print(fact)"
      ]
    }
  ],
  "metadata": {
    "colab": {
      "provenance": [],
      "authorship_tag": "ABX9TyPNh5ai4AaDgrUb8AcQzIw+",
      "include_colab_link": true
    },
    "kernelspec": {
      "display_name": "Python 3",
      "name": "python3"
    },
    "language_info": {
      "name": "python"
    }
  },
  "nbformat": 4,
  "nbformat_minor": 0
}